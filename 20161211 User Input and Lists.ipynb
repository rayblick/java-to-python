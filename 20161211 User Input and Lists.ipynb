{
 "cells": [
  {
   "cell_type": "markdown",
   "metadata": {},
   "source": [
    "# User Input and Lists"
   ]
  },
  {
   "cell_type": "markdown",
   "metadata": {},
   "source": [
    "## Java"
   ]
  },
  {
   "cell_type": "code",
   "execution_count": null,
   "metadata": {
    "collapsed": true
   },
   "outputs": [],
   "source": [
    "\"\"\"JAVA\n",
    "\n",
    "import java.util.Scanner\n",
    "import java.util.stream.*;\n",
    "Scanner in = new Scanner(System.in);\n",
    "\n",
    "// create array\n",
    "double[] myList = new double[5];\n",
    "\n",
    "// loop five times and enter values\n",
    "for(int i=0; i<5; i++){\n",
    "    // ask for user input\n",
    "    System.out.print(\"Enter value: \" );\n",
    "    // add value to array\n",
    "    myList[i] = in.nextDouble();\n",
    "}\n",
    "\n",
    "// sum and round to 2 decimal places\n",
    "double sum = DoubleStream.of(myList).sum();\n",
    "System.out.printf(\"The sum is %5.2f\", sum);\n",
    "\"\"\""
   ]
  },
  {
   "cell_type": "markdown",
   "metadata": {},
   "source": [
    "## Python"
   ]
  },
  {
   "cell_type": "code",
   "execution_count": 1,
   "metadata": {
    "collapsed": false
   },
   "outputs": [
    {
     "name": "stdout",
     "output_type": "stream",
     "text": [
      "Enter value 0: 1.2\n",
      "Enter value 1: 2\n",
      "Enter value 2: 3\n",
      "Enter value 3: 5.45\n",
      "Enter value 4: 7.55\n",
      "19.2\n"
     ]
    }
   ],
   "source": [
    "# create array\n",
    "myList=[]\n",
    "\n",
    "# loop five times and enter values\n",
    "for i in range(0,5):\n",
    "    # ask for user input and convert to float\n",
    "    myvalue = float(input(\"Enter value {}: \".format(i)))\n",
    "    # add value to list\n",
    "    myList.append(myvalue)\n",
    "\n",
    "# sum and round to 2 decimal places\n",
    "print(round(sum(myList),2))"
   ]
  },
  {
   "cell_type": "code",
   "execution_count": null,
   "metadata": {
    "collapsed": true
   },
   "outputs": [],
   "source": []
  }
 ],
 "metadata": {
  "kernelspec": {
   "display_name": "Python 3",
   "language": "python",
   "name": "python3"
  },
  "language_info": {
   "codemirror_mode": {
    "name": "ipython",
    "version": 3
   },
   "file_extension": ".py",
   "mimetype": "text/x-python",
   "name": "python",
   "nbconvert_exporter": "python",
   "pygments_lexer": "ipython3",
   "version": "3.4.3"
  }
 },
 "nbformat": 4,
 "nbformat_minor": 1
}
