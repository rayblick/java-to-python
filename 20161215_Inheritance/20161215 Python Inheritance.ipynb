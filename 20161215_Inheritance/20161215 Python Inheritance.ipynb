{
 "cells": [
  {
   "cell_type": "code",
   "execution_count": 1,
   "metadata": {
    "collapsed": false
   },
   "outputs": [
    {
     "name": "stdout",
     "output_type": "stream",
     "text": [
      "Ray\n"
     ]
    }
   ],
   "source": [
    "class Person():\n",
    "    \"\"\"\n",
    "    Small person class that can set and get a name\n",
    "    \"\"\"\n",
    "    def __init__(self, name, age):\n",
    "        \"\"\"Initialise the class / constructor\"\"\"\n",
    "        self.name = name\n",
    "        self.age = age\n",
    "\n",
    "    def setName(self, n):\n",
    "        \"\"\"Basic setter\"\"\"\n",
    "        self.name = n\n",
    "\n",
    "    def getName(self):\n",
    "        \"\"\"Basic getter\"\"\"\n",
    "        print(self.name)\n",
    "\n",
    "\n",
    "class Animal(Person):\n",
    "    \"\"\"\n",
    "    The Animal class will specify the type of an animal\n",
    "    The Animal class extends the person class, meaning that it\n",
    "    should be able to set and get names.\n",
    "\n",
    "    Inheritance is done by giving the animal class access to\n",
    "    the person class by putting the class object inside the\n",
    "    brackets\n",
    "    \"\"\"\n",
    "    def __init__(self, animaltype):\n",
    "        \"\"\"Initilise the Animal class\"\"\"\n",
    "        self.type = animaltype\n",
    "\n",
    "\n",
    "if __name__ == \"__main__\":\n",
    "    # Method to allow running at the command line\n",
    "    # type \"python animal.py\"\n",
    "    elephant=Animal(\"elephant\")\n",
    "    elephant.setName(\"Ray\")\n",
    "    elephant.getName()\n",
    "\n",
    "\n",
    "# OUTPUT\n",
    "# Ray"
   ]
  },
  {
   "cell_type": "code",
   "execution_count": null,
   "metadata": {
    "collapsed": true
   },
   "outputs": [],
   "source": []
  }
 ],
 "metadata": {
  "kernelspec": {
   "display_name": "Python 3",
   "language": "python",
   "name": "python3"
  },
  "language_info": {
   "codemirror_mode": {
    "name": "ipython",
    "version": 3
   },
   "file_extension": ".py",
   "mimetype": "text/x-python",
   "name": "python",
   "nbconvert_exporter": "python",
   "pygments_lexer": "ipython3",
   "version": "3.4.3"
  }
 },
 "nbformat": 4,
 "nbformat_minor": 1
}
