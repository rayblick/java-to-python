{
 "cells": [
  {
   "cell_type": "markdown",
   "metadata": {},
   "source": [
    "# Break"
   ]
  },
  {
   "cell_type": "code",
   "execution_count": 13,
   "metadata": {
    "collapsed": true
   },
   "outputs": [],
   "source": [
    "class myBreakTest():\n",
    "    def main(self):\n",
    "        # create count var\n",
    "        myCount = 0\n",
    "        # create loop \n",
    "        while(myCount < 10):\n",
    "            # increase count\n",
    "            myCount += 1\n",
    "            # conditional loop to stop at 5\n",
    "            if myCount == 5:\n",
    "                print(\"break\")\n",
    "                break\n",
    "            # print output\n",
    "            print(myCount)\n"
   ]
  },
  {
   "cell_type": "code",
   "execution_count": 14,
   "metadata": {
    "collapsed": false
   },
   "outputs": [
    {
     "name": "stdout",
     "output_type": "stream",
     "text": [
      "1\n",
      "2\n",
      "3\n",
      "4\n",
      "break\n"
     ]
    }
   ],
   "source": [
    "mbt = myBreakTest()\n",
    "mbt.main()"
   ]
  },
  {
   "cell_type": "markdown",
   "metadata": {},
   "source": [
    "# Continue"
   ]
  },
  {
   "cell_type": "code",
   "execution_count": 15,
   "metadata": {
    "collapsed": true
   },
   "outputs": [],
   "source": [
    "class myContinueTest():\n",
    "    def main(self):\n",
    "        myCount = 0\n",
    "        while(myCount < 10):\n",
    "            # increase count\n",
    "            myCount += 1\n",
    "            # conditional loop to stop at 5\n",
    "            if myCount == 5:\n",
    "                print(\"continue\")\n",
    "                continue\n",
    "            # print output\n",
    "            print(myCount)"
   ]
  },
  {
   "cell_type": "code",
   "execution_count": 16,
   "metadata": {
    "collapsed": false
   },
   "outputs": [
    {
     "name": "stdout",
     "output_type": "stream",
     "text": [
      "1\n",
      "2\n",
      "3\n",
      "4\n",
      "continue\n",
      "6\n",
      "7\n",
      "8\n",
      "9\n",
      "10\n"
     ]
    }
   ],
   "source": [
    "mct = myContinueTest()\n",
    "mct.main()"
   ]
  }
 ],
 "metadata": {
  "kernelspec": {
   "display_name": "Python 3",
   "language": "python",
   "name": "python3"
  },
  "language_info": {
   "codemirror_mode": {
    "name": "ipython",
    "version": 3
   },
   "file_extension": ".py",
   "mimetype": "text/x-python",
   "name": "python",
   "nbconvert_exporter": "python",
   "pygments_lexer": "ipython3",
   "version": "3.4.3"
  }
 },
 "nbformat": 4,
 "nbformat_minor": 1
}
