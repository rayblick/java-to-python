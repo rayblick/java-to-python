{
 "cells": [
  {
   "cell_type": "markdown",
   "metadata": {},
   "source": [
    "# Sleep Method"
   ]
  },
  {
   "cell_type": "code",
   "execution_count": 4,
   "metadata": {
    "collapsed": true
   },
   "outputs": [],
   "source": [
    "# Import library\n",
    "import time"
   ]
  },
  {
   "cell_type": "code",
   "execution_count": 2,
   "metadata": {
    "collapsed": true
   },
   "outputs": [],
   "source": [
    "# Use class to match Java example\n",
    "class mySleepTest():\n",
    "    \"\"\"\n",
    "    A simple test of the sleep method. \n",
    "    Adds 3 seconds to each iteration.\n",
    "    \"\"\"\n",
    "    def main(self):\n",
    "        \"\"\"\n",
    "        Main function executes a while loop. \n",
    "        It should take just over 12 seconds.\n",
    "        \"\"\"\n",
    "        # set start value\n",
    "        value = 0\n",
    "        # iterate up to four\n",
    "        while(value < 4):\n",
    "            print(\"Increasing value to \" + value)\n",
    "            # SLEEP METHOD\n",
    "            time.sleep(3)\n",
    "            # increase value\n",
    "            value += 1        "
   ]
  },
  {
   "cell_type": "code",
   "execution_count": 9,
   "metadata": {
    "collapsed": false
   },
   "outputs": [],
   "source": [
    "# instantiate class\n",
    "mst = mySleepTest()"
   ]
  },
  {
   "cell_type": "code",
   "execution_count": 17,
   "metadata": {
    "collapsed": false
   },
   "outputs": [
    {
     "name": "stdout",
     "output_type": "stream",
     "text": [
      "0\n",
      "1\n",
      "2\n",
      "3\n"
     ]
    }
   ],
   "source": [
    "# time the main method\n",
    "start = time.time()\n",
    "mst.main()\n",
    "end = time.time()"
   ]
  },
  {
   "cell_type": "code",
   "execution_count": 19,
   "metadata": {
    "collapsed": false
   },
   "outputs": [
    {
     "data": {
      "text/plain": [
       "'total time taken = 12.02'"
      ]
     },
     "execution_count": 19,
     "metadata": {},
     "output_type": "execute_result"
    }
   ],
   "source": [
    "# Print out the time taken to achieve the task\n",
    "\"total time taken = {}\".format(round(end-start, 2))"
   ]
  }
 ],
 "metadata": {
  "kernelspec": {
   "display_name": "Python 3",
   "language": "python",
   "name": "python3"
  },
  "language_info": {
   "codemirror_mode": {
    "name": "ipython",
    "version": 3
   },
   "file_extension": ".py",
   "mimetype": "text/x-python",
   "name": "python",
   "nbconvert_exporter": "python",
   "pygments_lexer": "ipython3",
   "version": "3.4.3"
  }
 },
 "nbformat": 4,
 "nbformat_minor": 1
}
