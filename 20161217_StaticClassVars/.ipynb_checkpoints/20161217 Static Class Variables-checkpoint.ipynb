{
 "cells": [
  {
   "cell_type": "markdown",
   "metadata": {},
   "source": [
    "# Static Class Variables"
   ]
  },
  {
   "cell_type": "code",
   "execution_count": 1,
   "metadata": {
    "collapsed": true
   },
   "outputs": [],
   "source": [
    "class Person():\n",
    "    # class variable\n",
    "    pCount = 0\n",
    "    def __init__(self, name, age):\n",
    "        \"\"\"Contstructor that has 2 variables\"\"\"\n",
    "        Person.pCount += 1\n",
    "        self.name = name\n",
    "        self.age = age\n",
    "\n",
    "    def getAge(self):\n",
    "        \"\"\"Getter method - get age of person\"\"\"\n",
    "        print(self.age)\n",
    "\n",
    "    def getPCount(self):\n",
    "        \"\"\"Getter method - print class count\"\"\"\n",
    "        print(Person.pCount)\n"
   ]
  },
  {
   "cell_type": "code",
   "execution_count": 2,
   "metadata": {
    "collapsed": false
   },
   "outputs": [
    {
     "name": "stdout",
     "output_type": "stream",
     "text": [
      "1\n"
     ]
    }
   ],
   "source": [
    "# Instantiate first person\n",
    "x=Person('B1',10)\n",
    "x.getPCount()"
   ]
  },
  {
   "cell_type": "code",
   "execution_count": 3,
   "metadata": {
    "collapsed": false
   },
   "outputs": [
    {
     "name": "stdout",
     "output_type": "stream",
     "text": [
      "2\n"
     ]
    }
   ],
   "source": [
    "# Instantiate second person\n",
    "y=Person('B2',20)\n",
    "y.getPCount()"
   ]
  },
  {
   "cell_type": "code",
   "execution_count": 4,
   "metadata": {
    "collapsed": false
   },
   "outputs": [
    {
     "name": "stdout",
     "output_type": "stream",
     "text": [
      "3\n"
     ]
    }
   ],
   "source": [
    "# Instantiate third person\n",
    "z=Person('B3',30)\n",
    "z.getPCount() "
   ]
  },
  {
   "cell_type": "code",
   "execution_count": 5,
   "metadata": {
    "collapsed": false
   },
   "outputs": [
    {
     "name": "stdout",
     "output_type": "stream",
     "text": [
      "3\n",
      "3\n",
      "3\n"
     ]
    }
   ],
   "source": [
    "z.getPCount() \n",
    "y.getPCount() \n",
    "x.getPCount()"
   ]
  }
 ],
 "metadata": {
  "kernelspec": {
   "display_name": "Python 3",
   "language": "python",
   "name": "python3"
  },
  "language_info": {
   "codemirror_mode": {
    "name": "ipython",
    "version": 3
   },
   "file_extension": ".py",
   "mimetype": "text/x-python",
   "name": "python",
   "nbconvert_exporter": "python",
   "pygments_lexer": "ipython3",
   "version": "3.4.3"
  }
 },
 "nbformat": 4,
 "nbformat_minor": 1
}
