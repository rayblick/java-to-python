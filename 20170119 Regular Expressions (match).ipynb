{
 "cells": [
  {
   "cell_type": "markdown",
   "metadata": {},
   "source": [
    "# Regular Expressions (match)"
   ]
  },
  {
   "cell_type": "markdown",
   "metadata": {},
   "source": [
    "## Java"
   ]
  },
  {
   "cell_type": "markdown",
   "metadata": {},
   "source": [
    "<img style=\"float: left\", src=\"images/2017-01-19_regular_expressions.png\">"
   ]
  },
  {
   "cell_type": "markdown",
   "metadata": {},
   "source": [
    "## Python"
   ]
  },
  {
   "cell_type": "code",
   "execution_count": 3,
   "metadata": {
    "collapsed": true
   },
   "outputs": [],
   "source": [
    "#import library\n",
    "import re"
   ]
  },
  {
   "cell_type": "code",
   "execution_count": 6,
   "metadata": {
    "collapsed": false
   },
   "outputs": [],
   "source": [
    "#help(re)"
   ]
  },
  {
   "cell_type": "code",
   "execution_count": 17,
   "metadata": {
    "collapsed": true
   },
   "outputs": [],
   "source": [
    "# Create class and main method to match Java implementation\n",
    "class RegularExpressionsTest:\n",
    "    def main():\n",
    "        email = \"Testing@gmail.com\"\n",
    "        m = re.match(r\"(.*)(@)(.*)\", email)\n",
    "        print(m.group(0))\n",
    "        print(m.group(1))\n",
    "        print(m.group(2))\n",
    "        print(m.group(3))"
   ]
  },
  {
   "cell_type": "code",
   "execution_count": 20,
   "metadata": {
    "collapsed": false
   },
   "outputs": [
    {
     "name": "stdout",
     "output_type": "stream",
     "text": [
      "Testing@gmail.com\n",
      "Testing\n",
      "@\n",
      "gmail.com\n"
     ]
    }
   ],
   "source": [
    "rtt = RegularExpressionsTest\n",
    "rtt.main()"
   ]
  },
  {
   "cell_type": "markdown",
   "metadata": {},
   "source": [
    "## Resources"
   ]
  },
  {
   "cell_type": "markdown",
   "metadata": {},
   "source": [
    "* Python 2.7: https://docs.python.org/2/library/re.html\n",
    "* Python 3.5: https://docs.python.org/3.5/library/re.html \n",
    "* Java: https://www.tutorialspoint.com/java/java_regular_expressions.htm\n",
    "* Java in 21 days: http://workbench.cadenhead.org/go/java21days/"
   ]
  },
  {
   "cell_type": "code",
   "execution_count": null,
   "metadata": {
    "collapsed": true
   },
   "outputs": [],
   "source": []
  }
 ],
 "metadata": {
  "kernelspec": {
   "display_name": "Python 3",
   "language": "python",
   "name": "python3"
  },
  "language_info": {
   "codemirror_mode": {
    "name": "ipython",
    "version": 3
   },
   "file_extension": ".py",
   "mimetype": "text/x-python",
   "name": "python",
   "nbconvert_exporter": "python",
   "pygments_lexer": "ipython3",
   "version": "3.4.3"
  }
 },
 "nbformat": 4,
 "nbformat_minor": 1
}
